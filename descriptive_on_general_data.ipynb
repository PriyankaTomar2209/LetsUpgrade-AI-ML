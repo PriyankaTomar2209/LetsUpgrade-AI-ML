{
  "nbformat": 4,
  "nbformat_minor": 0,
  "metadata": {
    "colab": {
      "name": "descriptive_on_general_data.ipynb",
      "provenance": [],
      "collapsed_sections": []
    },
    "kernelspec": {
      "name": "python3",
      "display_name": "Python 3"
    }
  },
  "cells": [
    {
      "cell_type": "code",
      "metadata": {
        "id": "s7w_bvtxtvI2",
        "colab_type": "code",
        "colab": {}
      },
      "source": [
        "import pandas as pd"
      ],
      "execution_count": 1,
      "outputs": []
    },
    {
      "cell_type": "code",
      "metadata": {
        "id": "4kLZY5nwuFLe",
        "colab_type": "code",
        "colab": {
          "base_uri": "https://localhost:8080/",
          "height": 301
        },
        "outputId": "0f20a9f0-4564-4abf-8a87-d87fcfb2e4f5"
      },
      "source": [
        "data = pd.read_csv('/content/general_data.csv')\n",
        "data.head()"
      ],
      "execution_count": 53,
      "outputs": [
        {
          "output_type": "execute_result",
          "data": {
            "text/html": [
              "<div>\n",
              "<style scoped>\n",
              "    .dataframe tbody tr th:only-of-type {\n",
              "        vertical-align: middle;\n",
              "    }\n",
              "\n",
              "    .dataframe tbody tr th {\n",
              "        vertical-align: top;\n",
              "    }\n",
              "\n",
              "    .dataframe thead th {\n",
              "        text-align: right;\n",
              "    }\n",
              "</style>\n",
              "<table border=\"1\" class=\"dataframe\">\n",
              "  <thead>\n",
              "    <tr style=\"text-align: right;\">\n",
              "      <th></th>\n",
              "      <th>Age</th>\n",
              "      <th>Attrition</th>\n",
              "      <th>BusinessTravel</th>\n",
              "      <th>Department</th>\n",
              "      <th>DistanceFromHome</th>\n",
              "      <th>Education</th>\n",
              "      <th>EducationField</th>\n",
              "      <th>EmployeeCount</th>\n",
              "      <th>EmployeeID</th>\n",
              "      <th>Gender</th>\n",
              "      <th>JobLevel</th>\n",
              "      <th>JobRole</th>\n",
              "      <th>MaritalStatus</th>\n",
              "      <th>MonthlyIncome</th>\n",
              "      <th>NumCompaniesWorked</th>\n",
              "      <th>Over18</th>\n",
              "      <th>PercentSalaryHike</th>\n",
              "      <th>StandardHours</th>\n",
              "      <th>StockOptionLevel</th>\n",
              "      <th>TotalWorkingYears</th>\n",
              "      <th>TrainingTimesLastYear</th>\n",
              "      <th>YearsAtCompany</th>\n",
              "      <th>YearsSinceLastPromotion</th>\n",
              "      <th>YearsWithCurrManager</th>\n",
              "    </tr>\n",
              "  </thead>\n",
              "  <tbody>\n",
              "    <tr>\n",
              "      <th>0</th>\n",
              "      <td>51</td>\n",
              "      <td>No</td>\n",
              "      <td>Travel_Rarely</td>\n",
              "      <td>Sales</td>\n",
              "      <td>6</td>\n",
              "      <td>2</td>\n",
              "      <td>Life Sciences</td>\n",
              "      <td>1</td>\n",
              "      <td>1</td>\n",
              "      <td>Female</td>\n",
              "      <td>1</td>\n",
              "      <td>Healthcare Representative</td>\n",
              "      <td>Married</td>\n",
              "      <td>131160</td>\n",
              "      <td>1.0</td>\n",
              "      <td>Y</td>\n",
              "      <td>11</td>\n",
              "      <td>8</td>\n",
              "      <td>0</td>\n",
              "      <td>1.0</td>\n",
              "      <td>6</td>\n",
              "      <td>1</td>\n",
              "      <td>0</td>\n",
              "      <td>0</td>\n",
              "    </tr>\n",
              "    <tr>\n",
              "      <th>1</th>\n",
              "      <td>31</td>\n",
              "      <td>Yes</td>\n",
              "      <td>Travel_Frequently</td>\n",
              "      <td>Research &amp; Development</td>\n",
              "      <td>10</td>\n",
              "      <td>1</td>\n",
              "      <td>Life Sciences</td>\n",
              "      <td>1</td>\n",
              "      <td>2</td>\n",
              "      <td>Female</td>\n",
              "      <td>1</td>\n",
              "      <td>Research Scientist</td>\n",
              "      <td>Single</td>\n",
              "      <td>41890</td>\n",
              "      <td>0.0</td>\n",
              "      <td>Y</td>\n",
              "      <td>23</td>\n",
              "      <td>8</td>\n",
              "      <td>1</td>\n",
              "      <td>6.0</td>\n",
              "      <td>3</td>\n",
              "      <td>5</td>\n",
              "      <td>1</td>\n",
              "      <td>4</td>\n",
              "    </tr>\n",
              "    <tr>\n",
              "      <th>2</th>\n",
              "      <td>32</td>\n",
              "      <td>No</td>\n",
              "      <td>Travel_Frequently</td>\n",
              "      <td>Research &amp; Development</td>\n",
              "      <td>17</td>\n",
              "      <td>4</td>\n",
              "      <td>Other</td>\n",
              "      <td>1</td>\n",
              "      <td>3</td>\n",
              "      <td>Male</td>\n",
              "      <td>4</td>\n",
              "      <td>Sales Executive</td>\n",
              "      <td>Married</td>\n",
              "      <td>193280</td>\n",
              "      <td>1.0</td>\n",
              "      <td>Y</td>\n",
              "      <td>15</td>\n",
              "      <td>8</td>\n",
              "      <td>3</td>\n",
              "      <td>5.0</td>\n",
              "      <td>2</td>\n",
              "      <td>5</td>\n",
              "      <td>0</td>\n",
              "      <td>3</td>\n",
              "    </tr>\n",
              "    <tr>\n",
              "      <th>3</th>\n",
              "      <td>38</td>\n",
              "      <td>No</td>\n",
              "      <td>Non-Travel</td>\n",
              "      <td>Research &amp; Development</td>\n",
              "      <td>2</td>\n",
              "      <td>5</td>\n",
              "      <td>Life Sciences</td>\n",
              "      <td>1</td>\n",
              "      <td>4</td>\n",
              "      <td>Male</td>\n",
              "      <td>3</td>\n",
              "      <td>Human Resources</td>\n",
              "      <td>Married</td>\n",
              "      <td>83210</td>\n",
              "      <td>3.0</td>\n",
              "      <td>Y</td>\n",
              "      <td>11</td>\n",
              "      <td>8</td>\n",
              "      <td>3</td>\n",
              "      <td>13.0</td>\n",
              "      <td>5</td>\n",
              "      <td>8</td>\n",
              "      <td>7</td>\n",
              "      <td>5</td>\n",
              "    </tr>\n",
              "    <tr>\n",
              "      <th>4</th>\n",
              "      <td>32</td>\n",
              "      <td>No</td>\n",
              "      <td>Travel_Rarely</td>\n",
              "      <td>Research &amp; Development</td>\n",
              "      <td>10</td>\n",
              "      <td>1</td>\n",
              "      <td>Medical</td>\n",
              "      <td>1</td>\n",
              "      <td>5</td>\n",
              "      <td>Male</td>\n",
              "      <td>1</td>\n",
              "      <td>Sales Executive</td>\n",
              "      <td>Single</td>\n",
              "      <td>23420</td>\n",
              "      <td>4.0</td>\n",
              "      <td>Y</td>\n",
              "      <td>12</td>\n",
              "      <td>8</td>\n",
              "      <td>2</td>\n",
              "      <td>9.0</td>\n",
              "      <td>2</td>\n",
              "      <td>6</td>\n",
              "      <td>0</td>\n",
              "      <td>4</td>\n",
              "    </tr>\n",
              "  </tbody>\n",
              "</table>\n",
              "</div>"
            ],
            "text/plain": [
              "   Age Attrition  ... YearsSinceLastPromotion YearsWithCurrManager\n",
              "0   51        No  ...                       0                    0\n",
              "1   31       Yes  ...                       1                    4\n",
              "2   32        No  ...                       0                    3\n",
              "3   38        No  ...                       7                    5\n",
              "4   32        No  ...                       0                    4\n",
              "\n",
              "[5 rows x 24 columns]"
            ]
          },
          "metadata": {
            "tags": []
          },
          "execution_count": 53
        }
      ]
    },
    {
      "cell_type": "code",
      "metadata": {
        "id": "qcG8enqOvCft",
        "colab_type": "code",
        "colab": {
          "base_uri": "https://localhost:8080/",
          "height": 301
        },
        "outputId": "37e61979-3fd4-4a57-fb8d-119e759b735f"
      },
      "source": [
        "data.tail()"
      ],
      "execution_count": 54,
      "outputs": [
        {
          "output_type": "execute_result",
          "data": {
            "text/html": [
              "<div>\n",
              "<style scoped>\n",
              "    .dataframe tbody tr th:only-of-type {\n",
              "        vertical-align: middle;\n",
              "    }\n",
              "\n",
              "    .dataframe tbody tr th {\n",
              "        vertical-align: top;\n",
              "    }\n",
              "\n",
              "    .dataframe thead th {\n",
              "        text-align: right;\n",
              "    }\n",
              "</style>\n",
              "<table border=\"1\" class=\"dataframe\">\n",
              "  <thead>\n",
              "    <tr style=\"text-align: right;\">\n",
              "      <th></th>\n",
              "      <th>Age</th>\n",
              "      <th>Attrition</th>\n",
              "      <th>BusinessTravel</th>\n",
              "      <th>Department</th>\n",
              "      <th>DistanceFromHome</th>\n",
              "      <th>Education</th>\n",
              "      <th>EducationField</th>\n",
              "      <th>EmployeeCount</th>\n",
              "      <th>EmployeeID</th>\n",
              "      <th>Gender</th>\n",
              "      <th>JobLevel</th>\n",
              "      <th>JobRole</th>\n",
              "      <th>MaritalStatus</th>\n",
              "      <th>MonthlyIncome</th>\n",
              "      <th>NumCompaniesWorked</th>\n",
              "      <th>Over18</th>\n",
              "      <th>PercentSalaryHike</th>\n",
              "      <th>StandardHours</th>\n",
              "      <th>StockOptionLevel</th>\n",
              "      <th>TotalWorkingYears</th>\n",
              "      <th>TrainingTimesLastYear</th>\n",
              "      <th>YearsAtCompany</th>\n",
              "      <th>YearsSinceLastPromotion</th>\n",
              "      <th>YearsWithCurrManager</th>\n",
              "    </tr>\n",
              "  </thead>\n",
              "  <tbody>\n",
              "    <tr>\n",
              "      <th>4405</th>\n",
              "      <td>42</td>\n",
              "      <td>No</td>\n",
              "      <td>Travel_Rarely</td>\n",
              "      <td>Research &amp; Development</td>\n",
              "      <td>5</td>\n",
              "      <td>4</td>\n",
              "      <td>Medical</td>\n",
              "      <td>1</td>\n",
              "      <td>4406</td>\n",
              "      <td>Female</td>\n",
              "      <td>1</td>\n",
              "      <td>Research Scientist</td>\n",
              "      <td>Single</td>\n",
              "      <td>60290</td>\n",
              "      <td>3.0</td>\n",
              "      <td>Y</td>\n",
              "      <td>17</td>\n",
              "      <td>8</td>\n",
              "      <td>1</td>\n",
              "      <td>10.0</td>\n",
              "      <td>5</td>\n",
              "      <td>3</td>\n",
              "      <td>0</td>\n",
              "      <td>2</td>\n",
              "    </tr>\n",
              "    <tr>\n",
              "      <th>4406</th>\n",
              "      <td>29</td>\n",
              "      <td>No</td>\n",
              "      <td>Travel_Rarely</td>\n",
              "      <td>Research &amp; Development</td>\n",
              "      <td>2</td>\n",
              "      <td>4</td>\n",
              "      <td>Medical</td>\n",
              "      <td>1</td>\n",
              "      <td>4407</td>\n",
              "      <td>Male</td>\n",
              "      <td>1</td>\n",
              "      <td>Laboratory Technician</td>\n",
              "      <td>Divorced</td>\n",
              "      <td>26790</td>\n",
              "      <td>2.0</td>\n",
              "      <td>Y</td>\n",
              "      <td>15</td>\n",
              "      <td>8</td>\n",
              "      <td>0</td>\n",
              "      <td>10.0</td>\n",
              "      <td>2</td>\n",
              "      <td>3</td>\n",
              "      <td>0</td>\n",
              "      <td>2</td>\n",
              "    </tr>\n",
              "    <tr>\n",
              "      <th>4407</th>\n",
              "      <td>25</td>\n",
              "      <td>No</td>\n",
              "      <td>Travel_Rarely</td>\n",
              "      <td>Research &amp; Development</td>\n",
              "      <td>25</td>\n",
              "      <td>2</td>\n",
              "      <td>Life Sciences</td>\n",
              "      <td>1</td>\n",
              "      <td>4408</td>\n",
              "      <td>Male</td>\n",
              "      <td>2</td>\n",
              "      <td>Sales Executive</td>\n",
              "      <td>Married</td>\n",
              "      <td>37020</td>\n",
              "      <td>0.0</td>\n",
              "      <td>Y</td>\n",
              "      <td>20</td>\n",
              "      <td>8</td>\n",
              "      <td>0</td>\n",
              "      <td>5.0</td>\n",
              "      <td>4</td>\n",
              "      <td>4</td>\n",
              "      <td>1</td>\n",
              "      <td>2</td>\n",
              "    </tr>\n",
              "    <tr>\n",
              "      <th>4408</th>\n",
              "      <td>42</td>\n",
              "      <td>No</td>\n",
              "      <td>Travel_Rarely</td>\n",
              "      <td>Sales</td>\n",
              "      <td>18</td>\n",
              "      <td>2</td>\n",
              "      <td>Medical</td>\n",
              "      <td>1</td>\n",
              "      <td>4409</td>\n",
              "      <td>Male</td>\n",
              "      <td>1</td>\n",
              "      <td>Laboratory Technician</td>\n",
              "      <td>Divorced</td>\n",
              "      <td>23980</td>\n",
              "      <td>0.0</td>\n",
              "      <td>Y</td>\n",
              "      <td>14</td>\n",
              "      <td>8</td>\n",
              "      <td>1</td>\n",
              "      <td>10.0</td>\n",
              "      <td>2</td>\n",
              "      <td>9</td>\n",
              "      <td>7</td>\n",
              "      <td>8</td>\n",
              "    </tr>\n",
              "    <tr>\n",
              "      <th>4409</th>\n",
              "      <td>40</td>\n",
              "      <td>No</td>\n",
              "      <td>Travel_Rarely</td>\n",
              "      <td>Research &amp; Development</td>\n",
              "      <td>28</td>\n",
              "      <td>3</td>\n",
              "      <td>Medical</td>\n",
              "      <td>1</td>\n",
              "      <td>4410</td>\n",
              "      <td>Male</td>\n",
              "      <td>2</td>\n",
              "      <td>Laboratory Technician</td>\n",
              "      <td>Divorced</td>\n",
              "      <td>54680</td>\n",
              "      <td>0.0</td>\n",
              "      <td>Y</td>\n",
              "      <td>12</td>\n",
              "      <td>8</td>\n",
              "      <td>0</td>\n",
              "      <td>NaN</td>\n",
              "      <td>6</td>\n",
              "      <td>21</td>\n",
              "      <td>3</td>\n",
              "      <td>9</td>\n",
              "    </tr>\n",
              "  </tbody>\n",
              "</table>\n",
              "</div>"
            ],
            "text/plain": [
              "      Age Attrition  ... YearsSinceLastPromotion YearsWithCurrManager\n",
              "4405   42        No  ...                       0                    2\n",
              "4406   29        No  ...                       0                    2\n",
              "4407   25        No  ...                       1                    2\n",
              "4408   42        No  ...                       7                    8\n",
              "4409   40        No  ...                       3                    9\n",
              "\n",
              "[5 rows x 24 columns]"
            ]
          },
          "metadata": {
            "tags": []
          },
          "execution_count": 54
        }
      ]
    },
    {
      "cell_type": "code",
      "metadata": {
        "id": "CLdMeIgMuFSa",
        "colab_type": "code",
        "colab": {
          "base_uri": "https://localhost:8080/",
          "height": 141
        },
        "outputId": "ae5af71a-608c-42c1-fd8d-3f700b2b9beb"
      },
      "source": [
        "data.columns"
      ],
      "execution_count": 55,
      "outputs": [
        {
          "output_type": "execute_result",
          "data": {
            "text/plain": [
              "Index(['Age', 'Attrition', 'BusinessTravel', 'Department', 'DistanceFromHome',\n",
              "       'Education', 'EducationField', 'EmployeeCount', 'EmployeeID', 'Gender',\n",
              "       'JobLevel', 'JobRole', 'MaritalStatus', 'MonthlyIncome',\n",
              "       'NumCompaniesWorked', 'Over18', 'PercentSalaryHike', 'StandardHours',\n",
              "       'StockOptionLevel', 'TotalWorkingYears', 'TrainingTimesLastYear',\n",
              "       'YearsAtCompany', 'YearsSinceLastPromotion', 'YearsWithCurrManager'],\n",
              "      dtype='object')"
            ]
          },
          "metadata": {
            "tags": []
          },
          "execution_count": 55
        }
      ]
    },
    {
      "cell_type": "code",
      "metadata": {
        "id": "RhnO5OquvRzo",
        "colab_type": "code",
        "colab": {
          "base_uri": "https://localhost:8080/",
          "height": 34
        },
        "outputId": "a1ea2f70-4701-46c3-d60f-1013111f8992"
      },
      "source": [
        "data.shape"
      ],
      "execution_count": 56,
      "outputs": [
        {
          "output_type": "execute_result",
          "data": {
            "text/plain": [
              "(4410, 24)"
            ]
          },
          "metadata": {
            "tags": []
          },
          "execution_count": 56
        }
      ]
    },
    {
      "cell_type": "code",
      "metadata": {
        "id": "RlxKU29IvWzq",
        "colab_type": "code",
        "colab": {
          "base_uri": "https://localhost:8080/",
          "height": 461
        },
        "outputId": "ca328c3f-9d60-4de8-ba65-53cf72f5222e"
      },
      "source": [
        "data.dtypes"
      ],
      "execution_count": 57,
      "outputs": [
        {
          "output_type": "execute_result",
          "data": {
            "text/plain": [
              "Age                          int64\n",
              "Attrition                   object\n",
              "BusinessTravel              object\n",
              "Department                  object\n",
              "DistanceFromHome             int64\n",
              "Education                    int64\n",
              "EducationField              object\n",
              "EmployeeCount                int64\n",
              "EmployeeID                   int64\n",
              "Gender                      object\n",
              "JobLevel                     int64\n",
              "JobRole                     object\n",
              "MaritalStatus               object\n",
              "MonthlyIncome                int64\n",
              "NumCompaniesWorked         float64\n",
              "Over18                      object\n",
              "PercentSalaryHike            int64\n",
              "StandardHours                int64\n",
              "StockOptionLevel             int64\n",
              "TotalWorkingYears          float64\n",
              "TrainingTimesLastYear        int64\n",
              "YearsAtCompany               int64\n",
              "YearsSinceLastPromotion      int64\n",
              "YearsWithCurrManager         int64\n",
              "dtype: object"
            ]
          },
          "metadata": {
            "tags": []
          },
          "execution_count": 57
        }
      ]
    },
    {
      "cell_type": "markdown",
      "metadata": {
        "id": "0ZmHLSsJ9ObG",
        "colab_type": "text"
      },
      "source": [
        "**Drop columns like EmployeeID and EmployeeCount as there is no impact of this two on our targeted dataset**"
      ]
    },
    {
      "cell_type": "code",
      "metadata": {
        "id": "1sCb-G2svtdH",
        "colab_type": "code",
        "colab": {}
      },
      "source": [
        "data.drop(columns='EmployeeID',inplace=True)"
      ],
      "execution_count": 58,
      "outputs": []
    },
    {
      "cell_type": "code",
      "metadata": {
        "id": "BGCK6mAwyXzb",
        "colab_type": "code",
        "colab": {}
      },
      "source": [
        "data.drop(columns='EmployeeCount',inplace=True)"
      ],
      "execution_count": 59,
      "outputs": []
    },
    {
      "cell_type": "code",
      "metadata": {
        "id": "n7s88V-bztZf",
        "colab_type": "code",
        "colab": {
          "base_uri": "https://localhost:8080/",
          "height": 34
        },
        "outputId": "6b5ff1ef-a379-4db7-c479-e37085d545d0"
      },
      "source": [
        "data.shape"
      ],
      "execution_count": 60,
      "outputs": [
        {
          "output_type": "execute_result",
          "data": {
            "text/plain": [
              "(4410, 22)"
            ]
          },
          "metadata": {
            "tags": []
          },
          "execution_count": 60
        }
      ]
    },
    {
      "cell_type": "code",
      "metadata": {
        "id": "CtUuNy2P0uuW",
        "colab_type": "code",
        "colab": {
          "base_uri": "https://localhost:8080/",
          "height": 301
        },
        "outputId": "53263a1a-789d-464a-f426-79d8395eb119"
      },
      "source": [
        "data.head()"
      ],
      "execution_count": 61,
      "outputs": [
        {
          "output_type": "execute_result",
          "data": {
            "text/html": [
              "<div>\n",
              "<style scoped>\n",
              "    .dataframe tbody tr th:only-of-type {\n",
              "        vertical-align: middle;\n",
              "    }\n",
              "\n",
              "    .dataframe tbody tr th {\n",
              "        vertical-align: top;\n",
              "    }\n",
              "\n",
              "    .dataframe thead th {\n",
              "        text-align: right;\n",
              "    }\n",
              "</style>\n",
              "<table border=\"1\" class=\"dataframe\">\n",
              "  <thead>\n",
              "    <tr style=\"text-align: right;\">\n",
              "      <th></th>\n",
              "      <th>Age</th>\n",
              "      <th>Attrition</th>\n",
              "      <th>BusinessTravel</th>\n",
              "      <th>Department</th>\n",
              "      <th>DistanceFromHome</th>\n",
              "      <th>Education</th>\n",
              "      <th>EducationField</th>\n",
              "      <th>Gender</th>\n",
              "      <th>JobLevel</th>\n",
              "      <th>JobRole</th>\n",
              "      <th>MaritalStatus</th>\n",
              "      <th>MonthlyIncome</th>\n",
              "      <th>NumCompaniesWorked</th>\n",
              "      <th>Over18</th>\n",
              "      <th>PercentSalaryHike</th>\n",
              "      <th>StandardHours</th>\n",
              "      <th>StockOptionLevel</th>\n",
              "      <th>TotalWorkingYears</th>\n",
              "      <th>TrainingTimesLastYear</th>\n",
              "      <th>YearsAtCompany</th>\n",
              "      <th>YearsSinceLastPromotion</th>\n",
              "      <th>YearsWithCurrManager</th>\n",
              "    </tr>\n",
              "  </thead>\n",
              "  <tbody>\n",
              "    <tr>\n",
              "      <th>0</th>\n",
              "      <td>51</td>\n",
              "      <td>No</td>\n",
              "      <td>Travel_Rarely</td>\n",
              "      <td>Sales</td>\n",
              "      <td>6</td>\n",
              "      <td>2</td>\n",
              "      <td>Life Sciences</td>\n",
              "      <td>Female</td>\n",
              "      <td>1</td>\n",
              "      <td>Healthcare Representative</td>\n",
              "      <td>Married</td>\n",
              "      <td>131160</td>\n",
              "      <td>1.0</td>\n",
              "      <td>Y</td>\n",
              "      <td>11</td>\n",
              "      <td>8</td>\n",
              "      <td>0</td>\n",
              "      <td>1.0</td>\n",
              "      <td>6</td>\n",
              "      <td>1</td>\n",
              "      <td>0</td>\n",
              "      <td>0</td>\n",
              "    </tr>\n",
              "    <tr>\n",
              "      <th>1</th>\n",
              "      <td>31</td>\n",
              "      <td>Yes</td>\n",
              "      <td>Travel_Frequently</td>\n",
              "      <td>Research &amp; Development</td>\n",
              "      <td>10</td>\n",
              "      <td>1</td>\n",
              "      <td>Life Sciences</td>\n",
              "      <td>Female</td>\n",
              "      <td>1</td>\n",
              "      <td>Research Scientist</td>\n",
              "      <td>Single</td>\n",
              "      <td>41890</td>\n",
              "      <td>0.0</td>\n",
              "      <td>Y</td>\n",
              "      <td>23</td>\n",
              "      <td>8</td>\n",
              "      <td>1</td>\n",
              "      <td>6.0</td>\n",
              "      <td>3</td>\n",
              "      <td>5</td>\n",
              "      <td>1</td>\n",
              "      <td>4</td>\n",
              "    </tr>\n",
              "    <tr>\n",
              "      <th>2</th>\n",
              "      <td>32</td>\n",
              "      <td>No</td>\n",
              "      <td>Travel_Frequently</td>\n",
              "      <td>Research &amp; Development</td>\n",
              "      <td>17</td>\n",
              "      <td>4</td>\n",
              "      <td>Other</td>\n",
              "      <td>Male</td>\n",
              "      <td>4</td>\n",
              "      <td>Sales Executive</td>\n",
              "      <td>Married</td>\n",
              "      <td>193280</td>\n",
              "      <td>1.0</td>\n",
              "      <td>Y</td>\n",
              "      <td>15</td>\n",
              "      <td>8</td>\n",
              "      <td>3</td>\n",
              "      <td>5.0</td>\n",
              "      <td>2</td>\n",
              "      <td>5</td>\n",
              "      <td>0</td>\n",
              "      <td>3</td>\n",
              "    </tr>\n",
              "    <tr>\n",
              "      <th>3</th>\n",
              "      <td>38</td>\n",
              "      <td>No</td>\n",
              "      <td>Non-Travel</td>\n",
              "      <td>Research &amp; Development</td>\n",
              "      <td>2</td>\n",
              "      <td>5</td>\n",
              "      <td>Life Sciences</td>\n",
              "      <td>Male</td>\n",
              "      <td>3</td>\n",
              "      <td>Human Resources</td>\n",
              "      <td>Married</td>\n",
              "      <td>83210</td>\n",
              "      <td>3.0</td>\n",
              "      <td>Y</td>\n",
              "      <td>11</td>\n",
              "      <td>8</td>\n",
              "      <td>3</td>\n",
              "      <td>13.0</td>\n",
              "      <td>5</td>\n",
              "      <td>8</td>\n",
              "      <td>7</td>\n",
              "      <td>5</td>\n",
              "    </tr>\n",
              "    <tr>\n",
              "      <th>4</th>\n",
              "      <td>32</td>\n",
              "      <td>No</td>\n",
              "      <td>Travel_Rarely</td>\n",
              "      <td>Research &amp; Development</td>\n",
              "      <td>10</td>\n",
              "      <td>1</td>\n",
              "      <td>Medical</td>\n",
              "      <td>Male</td>\n",
              "      <td>1</td>\n",
              "      <td>Sales Executive</td>\n",
              "      <td>Single</td>\n",
              "      <td>23420</td>\n",
              "      <td>4.0</td>\n",
              "      <td>Y</td>\n",
              "      <td>12</td>\n",
              "      <td>8</td>\n",
              "      <td>2</td>\n",
              "      <td>9.0</td>\n",
              "      <td>2</td>\n",
              "      <td>6</td>\n",
              "      <td>0</td>\n",
              "      <td>4</td>\n",
              "    </tr>\n",
              "  </tbody>\n",
              "</table>\n",
              "</div>"
            ],
            "text/plain": [
              "   Age Attrition  ... YearsSinceLastPromotion YearsWithCurrManager\n",
              "0   51        No  ...                       0                    0\n",
              "1   31       Yes  ...                       1                    4\n",
              "2   32        No  ...                       0                    3\n",
              "3   38        No  ...                       7                    5\n",
              "4   32        No  ...                       0                    4\n",
              "\n",
              "[5 rows x 22 columns]"
            ]
          },
          "metadata": {
            "tags": []
          },
          "execution_count": 61
        }
      ]
    },
    {
      "cell_type": "code",
      "metadata": {
        "id": "15-6JJGSz3SF",
        "colab_type": "code",
        "colab": {
          "base_uri": "https://localhost:8080/",
          "height": 426
        },
        "outputId": "ff00289d-bcf1-4873-86ad-34c71ab3c7ce"
      },
      "source": [
        "data.isnull()"
      ],
      "execution_count": 62,
      "outputs": [
        {
          "output_type": "execute_result",
          "data": {
            "text/html": [
              "<div>\n",
              "<style scoped>\n",
              "    .dataframe tbody tr th:only-of-type {\n",
              "        vertical-align: middle;\n",
              "    }\n",
              "\n",
              "    .dataframe tbody tr th {\n",
              "        vertical-align: top;\n",
              "    }\n",
              "\n",
              "    .dataframe thead th {\n",
              "        text-align: right;\n",
              "    }\n",
              "</style>\n",
              "<table border=\"1\" class=\"dataframe\">\n",
              "  <thead>\n",
              "    <tr style=\"text-align: right;\">\n",
              "      <th></th>\n",
              "      <th>Age</th>\n",
              "      <th>Attrition</th>\n",
              "      <th>BusinessTravel</th>\n",
              "      <th>Department</th>\n",
              "      <th>DistanceFromHome</th>\n",
              "      <th>Education</th>\n",
              "      <th>EducationField</th>\n",
              "      <th>Gender</th>\n",
              "      <th>JobLevel</th>\n",
              "      <th>JobRole</th>\n",
              "      <th>MaritalStatus</th>\n",
              "      <th>MonthlyIncome</th>\n",
              "      <th>NumCompaniesWorked</th>\n",
              "      <th>Over18</th>\n",
              "      <th>PercentSalaryHike</th>\n",
              "      <th>StandardHours</th>\n",
              "      <th>StockOptionLevel</th>\n",
              "      <th>TotalWorkingYears</th>\n",
              "      <th>TrainingTimesLastYear</th>\n",
              "      <th>YearsAtCompany</th>\n",
              "      <th>YearsSinceLastPromotion</th>\n",
              "      <th>YearsWithCurrManager</th>\n",
              "    </tr>\n",
              "  </thead>\n",
              "  <tbody>\n",
              "    <tr>\n",
              "      <th>0</th>\n",
              "      <td>False</td>\n",
              "      <td>False</td>\n",
              "      <td>False</td>\n",
              "      <td>False</td>\n",
              "      <td>False</td>\n",
              "      <td>False</td>\n",
              "      <td>False</td>\n",
              "      <td>False</td>\n",
              "      <td>False</td>\n",
              "      <td>False</td>\n",
              "      <td>False</td>\n",
              "      <td>False</td>\n",
              "      <td>False</td>\n",
              "      <td>False</td>\n",
              "      <td>False</td>\n",
              "      <td>False</td>\n",
              "      <td>False</td>\n",
              "      <td>False</td>\n",
              "      <td>False</td>\n",
              "      <td>False</td>\n",
              "      <td>False</td>\n",
              "      <td>False</td>\n",
              "    </tr>\n",
              "    <tr>\n",
              "      <th>1</th>\n",
              "      <td>False</td>\n",
              "      <td>False</td>\n",
              "      <td>False</td>\n",
              "      <td>False</td>\n",
              "      <td>False</td>\n",
              "      <td>False</td>\n",
              "      <td>False</td>\n",
              "      <td>False</td>\n",
              "      <td>False</td>\n",
              "      <td>False</td>\n",
              "      <td>False</td>\n",
              "      <td>False</td>\n",
              "      <td>False</td>\n",
              "      <td>False</td>\n",
              "      <td>False</td>\n",
              "      <td>False</td>\n",
              "      <td>False</td>\n",
              "      <td>False</td>\n",
              "      <td>False</td>\n",
              "      <td>False</td>\n",
              "      <td>False</td>\n",
              "      <td>False</td>\n",
              "    </tr>\n",
              "    <tr>\n",
              "      <th>2</th>\n",
              "      <td>False</td>\n",
              "      <td>False</td>\n",
              "      <td>False</td>\n",
              "      <td>False</td>\n",
              "      <td>False</td>\n",
              "      <td>False</td>\n",
              "      <td>False</td>\n",
              "      <td>False</td>\n",
              "      <td>False</td>\n",
              "      <td>False</td>\n",
              "      <td>False</td>\n",
              "      <td>False</td>\n",
              "      <td>False</td>\n",
              "      <td>False</td>\n",
              "      <td>False</td>\n",
              "      <td>False</td>\n",
              "      <td>False</td>\n",
              "      <td>False</td>\n",
              "      <td>False</td>\n",
              "      <td>False</td>\n",
              "      <td>False</td>\n",
              "      <td>False</td>\n",
              "    </tr>\n",
              "    <tr>\n",
              "      <th>3</th>\n",
              "      <td>False</td>\n",
              "      <td>False</td>\n",
              "      <td>False</td>\n",
              "      <td>False</td>\n",
              "      <td>False</td>\n",
              "      <td>False</td>\n",
              "      <td>False</td>\n",
              "      <td>False</td>\n",
              "      <td>False</td>\n",
              "      <td>False</td>\n",
              "      <td>False</td>\n",
              "      <td>False</td>\n",
              "      <td>False</td>\n",
              "      <td>False</td>\n",
              "      <td>False</td>\n",
              "      <td>False</td>\n",
              "      <td>False</td>\n",
              "      <td>False</td>\n",
              "      <td>False</td>\n",
              "      <td>False</td>\n",
              "      <td>False</td>\n",
              "      <td>False</td>\n",
              "    </tr>\n",
              "    <tr>\n",
              "      <th>4</th>\n",
              "      <td>False</td>\n",
              "      <td>False</td>\n",
              "      <td>False</td>\n",
              "      <td>False</td>\n",
              "      <td>False</td>\n",
              "      <td>False</td>\n",
              "      <td>False</td>\n",
              "      <td>False</td>\n",
              "      <td>False</td>\n",
              "      <td>False</td>\n",
              "      <td>False</td>\n",
              "      <td>False</td>\n",
              "      <td>False</td>\n",
              "      <td>False</td>\n",
              "      <td>False</td>\n",
              "      <td>False</td>\n",
              "      <td>False</td>\n",
              "      <td>False</td>\n",
              "      <td>False</td>\n",
              "      <td>False</td>\n",
              "      <td>False</td>\n",
              "      <td>False</td>\n",
              "    </tr>\n",
              "    <tr>\n",
              "      <th>...</th>\n",
              "      <td>...</td>\n",
              "      <td>...</td>\n",
              "      <td>...</td>\n",
              "      <td>...</td>\n",
              "      <td>...</td>\n",
              "      <td>...</td>\n",
              "      <td>...</td>\n",
              "      <td>...</td>\n",
              "      <td>...</td>\n",
              "      <td>...</td>\n",
              "      <td>...</td>\n",
              "      <td>...</td>\n",
              "      <td>...</td>\n",
              "      <td>...</td>\n",
              "      <td>...</td>\n",
              "      <td>...</td>\n",
              "      <td>...</td>\n",
              "      <td>...</td>\n",
              "      <td>...</td>\n",
              "      <td>...</td>\n",
              "      <td>...</td>\n",
              "      <td>...</td>\n",
              "    </tr>\n",
              "    <tr>\n",
              "      <th>4405</th>\n",
              "      <td>False</td>\n",
              "      <td>False</td>\n",
              "      <td>False</td>\n",
              "      <td>False</td>\n",
              "      <td>False</td>\n",
              "      <td>False</td>\n",
              "      <td>False</td>\n",
              "      <td>False</td>\n",
              "      <td>False</td>\n",
              "      <td>False</td>\n",
              "      <td>False</td>\n",
              "      <td>False</td>\n",
              "      <td>False</td>\n",
              "      <td>False</td>\n",
              "      <td>False</td>\n",
              "      <td>False</td>\n",
              "      <td>False</td>\n",
              "      <td>False</td>\n",
              "      <td>False</td>\n",
              "      <td>False</td>\n",
              "      <td>False</td>\n",
              "      <td>False</td>\n",
              "    </tr>\n",
              "    <tr>\n",
              "      <th>4406</th>\n",
              "      <td>False</td>\n",
              "      <td>False</td>\n",
              "      <td>False</td>\n",
              "      <td>False</td>\n",
              "      <td>False</td>\n",
              "      <td>False</td>\n",
              "      <td>False</td>\n",
              "      <td>False</td>\n",
              "      <td>False</td>\n",
              "      <td>False</td>\n",
              "      <td>False</td>\n",
              "      <td>False</td>\n",
              "      <td>False</td>\n",
              "      <td>False</td>\n",
              "      <td>False</td>\n",
              "      <td>False</td>\n",
              "      <td>False</td>\n",
              "      <td>False</td>\n",
              "      <td>False</td>\n",
              "      <td>False</td>\n",
              "      <td>False</td>\n",
              "      <td>False</td>\n",
              "    </tr>\n",
              "    <tr>\n",
              "      <th>4407</th>\n",
              "      <td>False</td>\n",
              "      <td>False</td>\n",
              "      <td>False</td>\n",
              "      <td>False</td>\n",
              "      <td>False</td>\n",
              "      <td>False</td>\n",
              "      <td>False</td>\n",
              "      <td>False</td>\n",
              "      <td>False</td>\n",
              "      <td>False</td>\n",
              "      <td>False</td>\n",
              "      <td>False</td>\n",
              "      <td>False</td>\n",
              "      <td>False</td>\n",
              "      <td>False</td>\n",
              "      <td>False</td>\n",
              "      <td>False</td>\n",
              "      <td>False</td>\n",
              "      <td>False</td>\n",
              "      <td>False</td>\n",
              "      <td>False</td>\n",
              "      <td>False</td>\n",
              "    </tr>\n",
              "    <tr>\n",
              "      <th>4408</th>\n",
              "      <td>False</td>\n",
              "      <td>False</td>\n",
              "      <td>False</td>\n",
              "      <td>False</td>\n",
              "      <td>False</td>\n",
              "      <td>False</td>\n",
              "      <td>False</td>\n",
              "      <td>False</td>\n",
              "      <td>False</td>\n",
              "      <td>False</td>\n",
              "      <td>False</td>\n",
              "      <td>False</td>\n",
              "      <td>False</td>\n",
              "      <td>False</td>\n",
              "      <td>False</td>\n",
              "      <td>False</td>\n",
              "      <td>False</td>\n",
              "      <td>False</td>\n",
              "      <td>False</td>\n",
              "      <td>False</td>\n",
              "      <td>False</td>\n",
              "      <td>False</td>\n",
              "    </tr>\n",
              "    <tr>\n",
              "      <th>4409</th>\n",
              "      <td>False</td>\n",
              "      <td>False</td>\n",
              "      <td>False</td>\n",
              "      <td>False</td>\n",
              "      <td>False</td>\n",
              "      <td>False</td>\n",
              "      <td>False</td>\n",
              "      <td>False</td>\n",
              "      <td>False</td>\n",
              "      <td>False</td>\n",
              "      <td>False</td>\n",
              "      <td>False</td>\n",
              "      <td>False</td>\n",
              "      <td>False</td>\n",
              "      <td>False</td>\n",
              "      <td>False</td>\n",
              "      <td>False</td>\n",
              "      <td>True</td>\n",
              "      <td>False</td>\n",
              "      <td>False</td>\n",
              "      <td>False</td>\n",
              "      <td>False</td>\n",
              "    </tr>\n",
              "  </tbody>\n",
              "</table>\n",
              "<p>4410 rows × 22 columns</p>\n",
              "</div>"
            ],
            "text/plain": [
              "        Age  Attrition  ...  YearsSinceLastPromotion  YearsWithCurrManager\n",
              "0     False      False  ...                    False                 False\n",
              "1     False      False  ...                    False                 False\n",
              "2     False      False  ...                    False                 False\n",
              "3     False      False  ...                    False                 False\n",
              "4     False      False  ...                    False                 False\n",
              "...     ...        ...  ...                      ...                   ...\n",
              "4405  False      False  ...                    False                 False\n",
              "4406  False      False  ...                    False                 False\n",
              "4407  False      False  ...                    False                 False\n",
              "4408  False      False  ...                    False                 False\n",
              "4409  False      False  ...                    False                 False\n",
              "\n",
              "[4410 rows x 22 columns]"
            ]
          },
          "metadata": {
            "tags": []
          },
          "execution_count": 62
        }
      ]
    },
    {
      "cell_type": "markdown",
      "metadata": {
        "id": "WXnyZbSl9i32",
        "colab_type": "text"
      },
      "source": [
        "**Finding the number of NULL values in each column**"
      ]
    },
    {
      "cell_type": "code",
      "metadata": {
        "id": "7ruwk4Yf0cFe",
        "colab_type": "code",
        "colab": {
          "base_uri": "https://localhost:8080/",
          "height": 425
        },
        "outputId": "e358f2fc-03ce-4616-8ccb-e5fe8420e55c"
      },
      "source": [
        "data.isnull().sum()"
      ],
      "execution_count": 63,
      "outputs": [
        {
          "output_type": "execute_result",
          "data": {
            "text/plain": [
              "Age                         0\n",
              "Attrition                   0\n",
              "BusinessTravel              0\n",
              "Department                  0\n",
              "DistanceFromHome            0\n",
              "Education                   0\n",
              "EducationField              0\n",
              "Gender                      0\n",
              "JobLevel                    0\n",
              "JobRole                     0\n",
              "MaritalStatus               0\n",
              "MonthlyIncome               0\n",
              "NumCompaniesWorked         19\n",
              "Over18                      0\n",
              "PercentSalaryHike           0\n",
              "StandardHours               0\n",
              "StockOptionLevel            0\n",
              "TotalWorkingYears           9\n",
              "TrainingTimesLastYear       0\n",
              "YearsAtCompany              0\n",
              "YearsSinceLastPromotion     0\n",
              "YearsWithCurrManager        0\n",
              "dtype: int64"
            ]
          },
          "metadata": {
            "tags": []
          },
          "execution_count": 63
        }
      ]
    },
    {
      "cell_type": "markdown",
      "metadata": {
        "id": "ngGoNII89t8_",
        "colab_type": "text"
      },
      "source": [
        "**Dropping all the rows with the NULL values**"
      ]
    },
    {
      "cell_type": "code",
      "metadata": {
        "id": "Mtusk2wW0f1F",
        "colab_type": "code",
        "colab": {}
      },
      "source": [
        "data.dropna(inplace=True)"
      ],
      "execution_count": 68,
      "outputs": []
    },
    {
      "cell_type": "code",
      "metadata": {
        "id": "riOwVYRy072a",
        "colab_type": "code",
        "colab": {
          "base_uri": "https://localhost:8080/",
          "height": 425
        },
        "outputId": "73581da3-c078-4c2f-b7ef-546981e6bddc"
      },
      "source": [
        "data.isnull().sum()"
      ],
      "execution_count": 69,
      "outputs": [
        {
          "output_type": "execute_result",
          "data": {
            "text/plain": [
              "Age                        0\n",
              "Attrition                  0\n",
              "BusinessTravel             0\n",
              "Department                 0\n",
              "DistanceFromHome           0\n",
              "Education                  0\n",
              "EducationField             0\n",
              "Gender                     0\n",
              "JobLevel                   0\n",
              "JobRole                    0\n",
              "MaritalStatus              0\n",
              "MonthlyIncome              0\n",
              "NumCompaniesWorked         0\n",
              "Over18                     0\n",
              "PercentSalaryHike          0\n",
              "StandardHours              0\n",
              "StockOptionLevel           0\n",
              "TotalWorkingYears          0\n",
              "TrainingTimesLastYear      0\n",
              "YearsAtCompany             0\n",
              "YearsSinceLastPromotion    0\n",
              "YearsWithCurrManager       0\n",
              "dtype: int64"
            ]
          },
          "metadata": {
            "tags": []
          },
          "execution_count": 69
        }
      ]
    },
    {
      "cell_type": "code",
      "metadata": {
        "id": "-g1Risgr1BB1",
        "colab_type": "code",
        "colab": {
          "base_uri": "https://localhost:8080/",
          "height": 167
        },
        "outputId": "019a32c4-b50d-483b-9a90-e61f61655461"
      },
      "source": [
        "data.shape()"
      ],
      "execution_count": 70,
      "outputs": [
        {
          "output_type": "error",
          "ename": "TypeError",
          "evalue": "ignored",
          "traceback": [
            "\u001b[0;31m---------------------------------------------------------------------------\u001b[0m",
            "\u001b[0;31mTypeError\u001b[0m                                 Traceback (most recent call last)",
            "\u001b[0;32m<ipython-input-70-3d8483998d6f>\u001b[0m in \u001b[0;36m<module>\u001b[0;34m()\u001b[0m\n\u001b[0;32m----> 1\u001b[0;31m \u001b[0mdata\u001b[0m\u001b[0;34m.\u001b[0m\u001b[0mshape\u001b[0m\u001b[0;34m(\u001b[0m\u001b[0;34m)\u001b[0m\u001b[0;34m\u001b[0m\u001b[0;34m\u001b[0m\u001b[0m\n\u001b[0m",
            "\u001b[0;31mTypeError\u001b[0m: 'tuple' object is not callable"
          ]
        }
      ]
    },
    {
      "cell_type": "code",
      "metadata": {
        "id": "H_khOQbz2dhQ",
        "colab_type": "code",
        "colab": {
          "base_uri": "https://localhost:8080/",
          "height": 307
        },
        "outputId": "09596c32-14ca-43a9-d0e4-bb55ca3e5730"
      },
      "source": [
        "data.describe()"
      ],
      "execution_count": 71,
      "outputs": [
        {
          "output_type": "execute_result",
          "data": {
            "text/html": [
              "<div>\n",
              "<style scoped>\n",
              "    .dataframe tbody tr th:only-of-type {\n",
              "        vertical-align: middle;\n",
              "    }\n",
              "\n",
              "    .dataframe tbody tr th {\n",
              "        vertical-align: top;\n",
              "    }\n",
              "\n",
              "    .dataframe thead th {\n",
              "        text-align: right;\n",
              "    }\n",
              "</style>\n",
              "<table border=\"1\" class=\"dataframe\">\n",
              "  <thead>\n",
              "    <tr style=\"text-align: right;\">\n",
              "      <th></th>\n",
              "      <th>Age</th>\n",
              "      <th>DistanceFromHome</th>\n",
              "      <th>Education</th>\n",
              "      <th>JobLevel</th>\n",
              "      <th>MonthlyIncome</th>\n",
              "      <th>NumCompaniesWorked</th>\n",
              "      <th>PercentSalaryHike</th>\n",
              "      <th>StandardHours</th>\n",
              "      <th>StockOptionLevel</th>\n",
              "      <th>TotalWorkingYears</th>\n",
              "      <th>TrainingTimesLastYear</th>\n",
              "      <th>YearsAtCompany</th>\n",
              "      <th>YearsSinceLastPromotion</th>\n",
              "      <th>YearsWithCurrManager</th>\n",
              "    </tr>\n",
              "  </thead>\n",
              "  <tbody>\n",
              "    <tr>\n",
              "      <th>count</th>\n",
              "      <td>4382.000000</td>\n",
              "      <td>4382.000000</td>\n",
              "      <td>4382.000000</td>\n",
              "      <td>4382.000000</td>\n",
              "      <td>4382.000000</td>\n",
              "      <td>4382.000000</td>\n",
              "      <td>4382.000000</td>\n",
              "      <td>4382.0</td>\n",
              "      <td>4382.000000</td>\n",
              "      <td>4382.000000</td>\n",
              "      <td>4382.000000</td>\n",
              "      <td>4382.000000</td>\n",
              "      <td>4382.000000</td>\n",
              "      <td>4382.000000</td>\n",
              "    </tr>\n",
              "    <tr>\n",
              "      <th>mean</th>\n",
              "      <td>36.933364</td>\n",
              "      <td>9.198996</td>\n",
              "      <td>2.912369</td>\n",
              "      <td>2.063898</td>\n",
              "      <td>65061.702419</td>\n",
              "      <td>2.693291</td>\n",
              "      <td>15.210634</td>\n",
              "      <td>8.0</td>\n",
              "      <td>0.794614</td>\n",
              "      <td>11.290278</td>\n",
              "      <td>2.798266</td>\n",
              "      <td>7.010497</td>\n",
              "      <td>2.191693</td>\n",
              "      <td>4.126198</td>\n",
              "    </tr>\n",
              "    <tr>\n",
              "      <th>std</th>\n",
              "      <td>9.137272</td>\n",
              "      <td>8.105396</td>\n",
              "      <td>1.024728</td>\n",
              "      <td>1.106115</td>\n",
              "      <td>47142.310175</td>\n",
              "      <td>2.497832</td>\n",
              "      <td>3.663007</td>\n",
              "      <td>0.0</td>\n",
              "      <td>0.852397</td>\n",
              "      <td>7.785717</td>\n",
              "      <td>1.289402</td>\n",
              "      <td>6.129351</td>\n",
              "      <td>3.224994</td>\n",
              "      <td>3.569674</td>\n",
              "    </tr>\n",
              "    <tr>\n",
              "      <th>min</th>\n",
              "      <td>18.000000</td>\n",
              "      <td>1.000000</td>\n",
              "      <td>1.000000</td>\n",
              "      <td>1.000000</td>\n",
              "      <td>10090.000000</td>\n",
              "      <td>0.000000</td>\n",
              "      <td>11.000000</td>\n",
              "      <td>8.0</td>\n",
              "      <td>0.000000</td>\n",
              "      <td>0.000000</td>\n",
              "      <td>0.000000</td>\n",
              "      <td>0.000000</td>\n",
              "      <td>0.000000</td>\n",
              "      <td>0.000000</td>\n",
              "    </tr>\n",
              "    <tr>\n",
              "      <th>25%</th>\n",
              "      <td>30.000000</td>\n",
              "      <td>2.000000</td>\n",
              "      <td>2.000000</td>\n",
              "      <td>1.000000</td>\n",
              "      <td>29110.000000</td>\n",
              "      <td>1.000000</td>\n",
              "      <td>12.000000</td>\n",
              "      <td>8.0</td>\n",
              "      <td>0.000000</td>\n",
              "      <td>6.000000</td>\n",
              "      <td>2.000000</td>\n",
              "      <td>3.000000</td>\n",
              "      <td>0.000000</td>\n",
              "      <td>2.000000</td>\n",
              "    </tr>\n",
              "    <tr>\n",
              "      <th>50%</th>\n",
              "      <td>36.000000</td>\n",
              "      <td>7.000000</td>\n",
              "      <td>3.000000</td>\n",
              "      <td>2.000000</td>\n",
              "      <td>49190.000000</td>\n",
              "      <td>2.000000</td>\n",
              "      <td>14.000000</td>\n",
              "      <td>8.0</td>\n",
              "      <td>1.000000</td>\n",
              "      <td>10.000000</td>\n",
              "      <td>3.000000</td>\n",
              "      <td>5.000000</td>\n",
              "      <td>1.000000</td>\n",
              "      <td>3.000000</td>\n",
              "    </tr>\n",
              "    <tr>\n",
              "      <th>75%</th>\n",
              "      <td>43.000000</td>\n",
              "      <td>14.000000</td>\n",
              "      <td>4.000000</td>\n",
              "      <td>3.000000</td>\n",
              "      <td>83790.000000</td>\n",
              "      <td>4.000000</td>\n",
              "      <td>18.000000</td>\n",
              "      <td>8.0</td>\n",
              "      <td>1.000000</td>\n",
              "      <td>15.000000</td>\n",
              "      <td>3.000000</td>\n",
              "      <td>9.000000</td>\n",
              "      <td>3.000000</td>\n",
              "      <td>7.000000</td>\n",
              "    </tr>\n",
              "    <tr>\n",
              "      <th>max</th>\n",
              "      <td>60.000000</td>\n",
              "      <td>29.000000</td>\n",
              "      <td>5.000000</td>\n",
              "      <td>5.000000</td>\n",
              "      <td>199990.000000</td>\n",
              "      <td>9.000000</td>\n",
              "      <td>25.000000</td>\n",
              "      <td>8.0</td>\n",
              "      <td>3.000000</td>\n",
              "      <td>40.000000</td>\n",
              "      <td>6.000000</td>\n",
              "      <td>40.000000</td>\n",
              "      <td>15.000000</td>\n",
              "      <td>17.000000</td>\n",
              "    </tr>\n",
              "  </tbody>\n",
              "</table>\n",
              "</div>"
            ],
            "text/plain": [
              "               Age  ...  YearsWithCurrManager\n",
              "count  4382.000000  ...           4382.000000\n",
              "mean     36.933364  ...              4.126198\n",
              "std       9.137272  ...              3.569674\n",
              "min      18.000000  ...              0.000000\n",
              "25%      30.000000  ...              2.000000\n",
              "50%      36.000000  ...              3.000000\n",
              "75%      43.000000  ...              7.000000\n",
              "max      60.000000  ...             17.000000\n",
              "\n",
              "[8 rows x 14 columns]"
            ]
          },
          "metadata": {
            "tags": []
          },
          "execution_count": 71
        }
      ]
    },
    {
      "cell_type": "code",
      "metadata": {
        "id": "S_FIYu5i23ln",
        "colab_type": "code",
        "colab": {}
      },
      "source": [
        "import matplotlib.pyplot as plt"
      ],
      "execution_count": 78,
      "outputs": []
    },
    {
      "cell_type": "code",
      "metadata": {
        "id": "LwkFT1Us3Ao_",
        "colab_type": "code",
        "colab": {
          "base_uri": "https://localhost:8080/",
          "height": 141
        },
        "outputId": "02725eea-63a8-4339-84f5-dacaf4146c57"
      },
      "source": [
        "data.columns"
      ],
      "execution_count": 79,
      "outputs": [
        {
          "output_type": "execute_result",
          "data": {
            "text/plain": [
              "Index(['Age', 'Attrition', 'BusinessTravel', 'Department', 'DistanceFromHome',\n",
              "       'Education', 'EducationField', 'Gender', 'JobLevel', 'JobRole',\n",
              "       'MaritalStatus', 'MonthlyIncome', 'NumCompaniesWorked', 'Over18',\n",
              "       'PercentSalaryHike', 'StandardHours', 'StockOptionLevel',\n",
              "       'TotalWorkingYears', 'TrainingTimesLastYear', 'YearsAtCompany',\n",
              "       'YearsSinceLastPromotion', 'YearsWithCurrManager'],\n",
              "      dtype='object')"
            ]
          },
          "metadata": {
            "tags": []
          },
          "execution_count": 79
        }
      ]
    },
    {
      "cell_type": "markdown",
      "metadata": {
        "id": "8_SLHYaH-Cmq",
        "colab_type": "text"
      },
      "source": [
        "**BOXPLOT for all the integer variables(which make sense) to find the outliers**"
      ]
    },
    {
      "cell_type": "code",
      "metadata": {
        "id": "tlFKIwRo3EZ_",
        "colab_type": "code",
        "colab": {
          "base_uri": "https://localhost:8080/",
          "height": 406
        },
        "outputId": "54104d47-2e50-45bf-a2df-6ecacd0961c1"
      },
      "source": [
        "plt.boxplot(data.Age)"
      ],
      "execution_count": 82,
      "outputs": [
        {
          "output_type": "execute_result",
          "data": {
            "text/plain": [
              "{'boxes': [<matplotlib.lines.Line2D at 0x7f9388d87630>],\n",
              " 'caps': [<matplotlib.lines.Line2D at 0x7f9388d92048>,\n",
              "  <matplotlib.lines.Line2D at 0x7f9388d923c8>],\n",
              " 'fliers': [<matplotlib.lines.Line2D at 0x7f9388d92ac8>],\n",
              " 'means': [],\n",
              " 'medians': [<matplotlib.lines.Line2D at 0x7f9388d92748>],\n",
              " 'whiskers': [<matplotlib.lines.Line2D at 0x7f9388df7a58>,\n",
              "  <matplotlib.lines.Line2D at 0x7f9388d87c88>]}"
            ]
          },
          "metadata": {
            "tags": []
          },
          "execution_count": 82
        },
        {
          "output_type": "display_data",
          "data": {
            "image/png": "[encoded data removed]",
            "text/plain": [
              "<Figure size 432x288 with 1 Axes>"
            ]
          },
          "metadata": {
            "tags": [],
            "needs_background": "light"
          }
        }
      ]
    },
    {
      "cell_type": "code",
      "metadata": {
        "id": "QuGzaw6q3UzO",
        "colab_type": "code",
        "colab": {
          "base_uri": "https://localhost:8080/",
          "height": 406
        },
        "outputId": "d7260186-f114-4f83-d5c2-3ad94c0a1da4"
      },
      "source": [
        "plt.boxplot(data.MonthlyIncome)"
      ],
      "execution_count": 83,
      "outputs": [
        {
          "output_type": "execute_result",
          "data": {
            "text/plain": [
              "{'boxes': [<matplotlib.lines.Line2D at 0x7f938878fcf8>],\n",
              " 'caps': [<matplotlib.lines.Line2D at 0x7f938879b748>,\n",
              "  <matplotlib.lines.Line2D at 0x7f938879bac8>],\n",
              " 'fliers': [<matplotlib.lines.Line2D at 0x7f9388725208>],\n",
              " 'means': [],\n",
              " 'medians': [<matplotlib.lines.Line2D at 0x7f938879be48>],\n",
              " 'whiskers': [<matplotlib.lines.Line2D at 0x7f938879b048>,\n",
              "  <matplotlib.lines.Line2D at 0x7f938879b3c8>]}"
            ]
          },
          "metadata": {
            "tags": []
          },
          "execution_count": 83
        },
        {
          "output_type": "display_data",
          "data": {
            "image/png": "[encoded data removed]",
            "text/plain": [
              "<Figure size 432x288 with 1 Axes>"
            ]
          },
          "metadata": {
            "tags": [],
            "needs_background": "light"
          }
        }
      ]
    },
    {
      "cell_type": "code",
      "metadata": {
        "id": "j65DZOJE4DAo",
        "colab_type": "code",
        "colab": {
          "base_uri": "https://localhost:8080/",
          "height": 406
        },
        "outputId": "0a27b1df-ab5f-44aa-ac8e-e2fe061efea9"
      },
      "source": [
        "plt.boxplot(data.YearsAtCompany)"
      ],
      "execution_count": 84,
      "outputs": [
        {
          "output_type": "execute_result",
          "data": {
            "text/plain": [
              "{'boxes': [<matplotlib.lines.Line2D at 0x7f93886f8da0>],\n",
              " 'caps': [<matplotlib.lines.Line2D at 0x7f93887087f0>,\n",
              "  <matplotlib.lines.Line2D at 0x7f9388708b70>],\n",
              " 'fliers': [<matplotlib.lines.Line2D at 0x7f93887112b0>],\n",
              " 'means': [],\n",
              " 'medians': [<matplotlib.lines.Line2D at 0x7f9388708ef0>],\n",
              " 'whiskers': [<matplotlib.lines.Line2D at 0x7f93887080f0>,\n",
              "  <matplotlib.lines.Line2D at 0x7f9388708470>]}"
            ]
          },
          "metadata": {
            "tags": []
          },
          "execution_count": 84
        },
        {
          "output_type": "display_data",
          "data": {
            "image/png": "[encoded data removed]",
            "text/plain": [
              "<Figure size 432x288 with 1 Axes>"
            ]
          },
          "metadata": {
            "tags": [],
            "needs_background": "light"
          }
        }
      ]
    },
    {
      "cell_type": "code",
      "metadata": {
        "id": "bLJUeVJ-5ukb",
        "colab_type": "code",
        "colab": {
          "base_uri": "https://localhost:8080/",
          "height": 1000
        },
        "outputId": "e3b0a0b3-c4b0-4095-87af-ea1e471e65d4"
      },
      "source": [
        "'''column =['Age','DistanceFromHome',\n",
        "       'Education', 'JobLevel', 'JobRole',\n",
        "       'MaritalStatus', 'MonthlyIncome', 'NumCompaniesWorked', 'Over18',\n",
        "       'PercentSalaryHike', 'StandardHours', 'StockOptionLevel',\n",
        "       'TotalWorkingYears', 'TrainingTimesLastYear', 'YearsAtCompany',\n",
        "       'YearsSinceLastPromotion', 'YearsWithCurrManager']\n",
        "'''\n",
        "columns = ['Age', 'DistanceFromHome',\n",
        "       'MonthlyIncome', 'NumCompaniesWorked', 'PercentSalaryHike',\n",
        "       'StockOptionLevel', 'TotalWorkingYears',\n",
        "       'TrainingTimesLastYear', 'YearsAtCompany', 'YearsSinceLastPromotion',\n",
        "       'YearsWithCurrManager']\n",
        "for i in columns:\n",
        "  print('boc plot for :',i)\n",
        "  plt.boxplot(data[i])\n",
        "  plt.show()\n",
        "#plt.boxplot((data.YearsAtCompany,data.MonthlyIncome)\n"
      ],
      "execution_count": 104,
      "outputs": [
        {
          "output_type": "stream",
          "text": [
            "boc plot for : Age\n"
          ],
          "name": "stdout"
        },
        {
          "output_type": "display_data",
          "data": {
            "image/png": "[encoded data removed]",
            "text/plain": [
              "<Figure size 432x288 with 1 Axes>"
            ]
          },
          "metadata": {
            "tags": [],
            "needs_background": "light"
          }
        },
        {
          "output_type": "stream",
          "text": [
            "boc plot for : DistanceFromHome\n"
          ],
          "name": "stdout"
        },
        {
          "output_type": "display_data",
          "data": {
            "image/png": "[encoded data removed]",
            "text/plain": [
              "<Figure size 432x288 with 1 Axes>"
            ]
          },
          "metadata": {
            "tags": [],
            "needs_background": "light"
          }
        },
        {
          "output_type": "stream",
          "text": [
            "boc plot for : MonthlyIncome\n"
          ],
          "name": "stdout"
        },
        {
          "output_type": "display_data",
          "data": {
            "image/png": "[encoded data removed]",
            "text/plain": [
              "<Figure size 432x288 with 1 Axes>"
            ]
          },
          "metadata": {
            "tags": [],
            "needs_background": "light"
          }
        },
        {
          "output_type": "stream",
          "text": [
            "boc plot for : NumCompaniesWorked\n"
          ],
          "name": "stdout"
        },
        {
          "output_type": "display_data",
          "data": {
            "image/png": "[encoded data removed]",
            "text/plain": [
              "<Figure size 432x288 with 1 Axes>"
            ]
          },
          "metadata": {
            "tags": [],
            "needs_background": "light"
          }
        },
        {
          "output_type": "stream",
          "text": [
            "boc plot for : PercentSalaryHike\n"
          ],
          "name": "stdout"
        },
        {
          "output_type": "display_data",
          "data": {
            "image/png": "[encoded data removed]",
            "text/plain": [
              "<Figure size 432x288 with 1 Axes>"
            ]
          },
          "metadata": {
            "tags": [],
            "needs_background": "light"
          }
        },
        {
          "output_type": "stream",
          "text": [
            "boc plot for : StockOptionLevel\n"
          ],
          "name": "stdout"
        },
        {
          "output_type": "display_data",
          "data": {
            "image/png": "[encoded data removed]",
            "text/plain": [
              "<Figure size 432x288 with 1 Axes>"
            ]
          },
          "metadata": {
            "tags": [],
            "needs_background": "light"
          }
        },
        {
          "output_type": "stream",
          "text": [
            "boc plot for : TotalWorkingYears\n"
          ],
          "name": "stdout"
        },
        {
          "output_type": "display_data",
          "data": {
            "image/png": "[encoded data removed]",
            "text/plain": [
              "<Figure size 432x288 with 1 Axes>"
            ]
          },
          "metadata": {
            "tags": [],
            "needs_background": "light"
          }
        },
        {
          "output_type": "stream",
          "text": [
            "boc plot for : TrainingTimesLastYear\n"
          ],
          "name": "stdout"
        },
        {
          "output_type": "display_data",
          "data": {
            "image/png": "[encoded data removed]",
            "text/plain": [
              "<Figure size 432x288 with 1 Axes>"
            ]
          },
          "metadata": {
            "tags": [],
            "needs_background": "light"
          }
        },
        {
          "output_type": "stream",
          "text": [
            "boc plot for : YearsAtCompany\n"
          ],
          "name": "stdout"
        },
        {
          "output_type": "display_data",
          "data": {
            "image/png": "[encoded data removed]",
            "text/plain": [
              "<Figure size 432x288 with 1 Axes>"
            ]
          },
          "metadata": {
            "tags": [],
            "needs_background": "light"
          }
        },
        {
          "output_type": "stream",
          "text": [
            "boc plot for : YearsSinceLastPromotion\n"
          ],
          "name": "stdout"
        },
        {
          "output_type": "display_data",
          "data": {
            "image/png": "[encoded data removed]",
            "text/plain": [
              "<Figure size 432x288 with 1 Axes>"
            ]
          },
          "metadata": {
            "tags": [],
            "needs_background": "light"
          }
        },
        {
          "output_type": "stream",
          "text": [
            "boc plot for : YearsWithCurrManager\n"
          ],
          "name": "stdout"
        },
        {
          "output_type": "display_data",
          "data": {
            "image/png": "[encoded data removed]",
            "text/plain": [
              "<Figure size 432x288 with 1 Axes>"
            ]
          },
          "metadata": {
            "tags": [],
            "needs_background": "light"
          }
        }
      ]
    },
    {
      "cell_type": "code",
      "metadata": {
        "id": "L-XcDjCU4Tt6",
        "colab_type": "code",
        "colab": {
          "base_uri": "https://localhost:8080/",
          "height": 282
        },
        "outputId": "713270a4-9ff6-475a-dd06-47981b7515e7"
      },
      "source": [
        "plt.scatter(data.YearsAtCompany,data.MonthlyIncome)"
      ],
      "execution_count": 88,
      "outputs": [
        {
          "output_type": "execute_result",
          "data": {
            "text/plain": [
              "<matplotlib.collections.PathCollection at 0x7f938877d198>"
            ]
          },
          "metadata": {
            "tags": []
          },
          "execution_count": 88
        },
        {
          "output_type": "display_data",
          "data": {
            "image/png": "[encoded data removed]",
            "text/plain": [
              "<Figure size 432x288 with 1 Axes>"
            ]
          },
          "metadata": {
            "tags": [],
            "needs_background": "light"
          }
        }
      ]
    },
    {
      "cell_type": "code",
      "metadata": {
        "id": "iSOLhLND4ubN",
        "colab_type": "code",
        "colab": {}
      },
      "source": [
        ""
      ],
      "execution_count": null,
      "outputs": []
    }
  ]
}